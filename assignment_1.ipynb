{
 "cells": [
  {
   "cell_type": "code",
   "execution_count": 36,
   "metadata": {},
   "outputs": [
    {
     "name": "stdout",
     "output_type": "stream",
     "text": [
      "Probability of disease given cough, fever, and doctor visit: 0.0862\n"
     ]
    }
   ],
   "source": [
    "# Define prior probabilities\n",
    "P_D = 0.01  # Probability of having the disease\n",
    "P_not_D = 1 - P_D  # Probability of not having the disease\n",
    "\n",
    "# Conditional probabilities for symptoms given disease\n",
    "P_C_given_D = 0.8  # Probability of cough given disease\n",
    "P_C_given_not_D = 0.2  # Probability of cough given no disease\n",
    "\n",
    "P_F_given_D = 0.7  # Probability of fever given disease\n",
    "P_F_given_not_D = 0.3  # Probability of fever given no disease\n",
    "\n",
    "# Probability of visiting doctor given symptoms (cough, fever)\n",
    "P_V_given_C_F = 0.9  # Probability of visiting doctor given both cough and fever\n",
    "P_V_given_C_not_F = 0.7  # Probability of visiting doctor given cough and no fever\n",
    "P_V_given_not_C_F = 0.6  # Probability of visiting doctor given no cough but fever\n",
    "P_V_given_not_C_not_F = 0.1  # Probability of visiting doctor given no cough and no fever\n",
    "\n",
    "# Joint probability function P(D, C, F, V)\n",
    "def joint_probability(D, C, F, V):\n",
    "    # Calculate P(C|D), P(F|D), and P(V|C, F)\n",
    "    if D:\n",
    "        P_C = P_C_given_D\n",
    "        P_F = P_F_given_D\n",
    "    else:\n",
    "        P_C = P_C_given_not_D\n",
    "        P_F = P_F_given_not_D\n",
    "\n",
    "    # Determine P(V|C,F) based on symptom values\n",
    "    if C and F:\n",
    "        P_V = P_V_given_C_F\n",
    "    elif C and not F:\n",
    "        P_V = P_V_given_C_not_F\n",
    "    elif not C and F:\n",
    "        P_V = P_V_given_not_C_F\n",
    "    else:\n",
    "        P_V = P_V_given_not_C_not_F\n",
    "\n",
    "    # Return the joint probability P(D, C, F, V)\n",
    "    if D:\n",
    "        return P_D * P_C * P_F * P_V\n",
    "    else:\n",
    "        return P_not_D * P_C * P_F * P_V\n",
    "\n",
    "# Perform inference to calculate P(D|C, F, V)\n",
    "def infer_D_given_C_F_V(cough, fever, visit_doctor):\n",
    "    # Calculate total probability\n",
    "    total_prob = 0\n",
    "    disease_prob = 0\n",
    "\n",
    "    for D in [True, False]:  # Disease presence\n",
    "        # Joint probability for given values of cough, fever, doctor visit\n",
    "        prob = joint_probability(D, cough, fever, visit_doctor)\n",
    "        total_prob += prob\n",
    "        if D:\n",
    "            disease_prob += prob\n",
    "\n",
    "    # Check if total probability is non-zero before dividing\n",
    "    if total_prob > 0:\n",
    "        return disease_prob / total_prob  # P(D|C,F,V)\n",
    "    else:\n",
    "        return 0\n",
    "\n",
    "# Perform inference for a specific case:\n",
    "# - The person has a cough\n",
    "# - The person has a fever\n",
    "# - The person visits the doctor\n",
    "P_D_given_C_F_V = infer_D_given_C_F_V(cough=True, fever=True, visit_doctor=True)\n",
    "\n",
    "print(f\"Probability of disease given cough, fever, and doctor visit: {P_D_given_C_F_V:.4f}\")\n"
   ]
  }
 ],
 "metadata": {
  "kernelspec": {
   "display_name": ".venv",
   "language": "python",
   "name": "python3"
  },
  "language_info": {
   "codemirror_mode": {
    "name": "ipython",
    "version": 3
   },
   "file_extension": ".py",
   "mimetype": "text/x-python",
   "name": "python",
   "nbconvert_exporter": "python",
   "pygments_lexer": "ipython3",
   "version": "3.12.4"
  }
 },
 "nbformat": 4,
 "nbformat_minor": 2
}
